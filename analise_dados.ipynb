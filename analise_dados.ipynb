{
 "cells": [
  {
   "cell_type": "markdown",
   "metadata": {},
   "source": [
    "### ANÁLISE DE DADOS"
   ]
  },
  {
   "cell_type": "code",
   "execution_count": 3,
   "metadata": {},
   "outputs": [],
   "source": [
    "import pandas as pd"
   ]
  },
  {
   "cell_type": "code",
   "execution_count": 5,
   "metadata": {},
   "outputs": [],
   "source": [
    "deputados = pd.read_csv(\"db/db_lista_de_deputados.csv\", sep=',')\n",
    "gastos = pd.read_csv(\"db/db_lista_total_gastos.csv\", sep=',')"
   ]
  },
  {
   "cell_type": "code",
   "execution_count": 45,
   "metadata": {},
   "outputs": [
    {
     "data": {
      "text/plain": [
       "count    314339.000000\n",
       "mean        763.080516\n",
       "std        2144.052090\n",
       "min       -6605.570000\n",
       "25%          50.000000\n",
       "50%         187.050000\n",
       "75%         673.790000\n",
       "max      172000.000000\n",
       "Name: valorDocumento, dtype: float64"
      ]
     },
     "execution_count": 45,
     "metadata": {},
     "output_type": "execute_result"
    }
   ],
   "source": [
    "merge = pd.merge(gastos,deputados, how='left',on='id')\n",
    "merge.loc[merge['valorDocumento']==-1849.82000]"
   ]
  },
  {
   "cell_type": "code",
   "execution_count": 71,
   "metadata": {},
   "outputs": [
    {
     "data": {
      "text/html": [
       "<div>\n",
       "<style scoped>\n",
       "    .dataframe tbody tr th:only-of-type {\n",
       "        vertical-align: middle;\n",
       "    }\n",
       "\n",
       "    .dataframe tbody tr th {\n",
       "        vertical-align: top;\n",
       "    }\n",
       "\n",
       "    .dataframe thead th {\n",
       "        text-align: right;\n",
       "    }\n",
       "</style>\n",
       "<table border=\"1\" class=\"dataframe\">\n",
       "  <thead>\n",
       "    <tr style=\"text-align: right;\">\n",
       "      <th></th>\n",
       "      <th>ano</th>\n",
       "      <th>mes</th>\n",
       "      <th>valorDocumento</th>\n",
       "      <th>cnpjCpfFornecedor</th>\n",
       "      <th>valorLiquido</th>\n",
       "      <th>valorGlosa</th>\n",
       "      <th>id</th>\n",
       "    </tr>\n",
       "  </thead>\n",
       "  <tbody>\n",
       "    <tr>\n",
       "      <th>count</th>\n",
       "      <td>314339.000000</td>\n",
       "      <td>314339.000000</td>\n",
       "      <td>314339.000000</td>\n",
       "      <td>3.143390e+05</td>\n",
       "      <td>314339.000000</td>\n",
       "      <td>314339.000000</td>\n",
       "      <td>314339.000000</td>\n",
       "    </tr>\n",
       "    <tr>\n",
       "      <th>mean</th>\n",
       "      <td>2019.142076</td>\n",
       "      <td>6.016078</td>\n",
       "      <td>763.080516</td>\n",
       "      <td>1.360982e+13</td>\n",
       "      <td>758.060092</td>\n",
       "      <td>3.560971</td>\n",
       "      <td>166044.725946</td>\n",
       "    </tr>\n",
       "    <tr>\n",
       "      <th>std</th>\n",
       "      <td>0.349129</td>\n",
       "      <td>3.320309</td>\n",
       "      <td>2144.052090</td>\n",
       "      <td>1.804330e+13</td>\n",
       "      <td>2119.124627</td>\n",
       "      <td>169.079563</td>\n",
       "      <td>45459.128475</td>\n",
       "    </tr>\n",
       "    <tr>\n",
       "      <th>min</th>\n",
       "      <td>2019.000000</td>\n",
       "      <td>1.000000</td>\n",
       "      <td>-6605.570000</td>\n",
       "      <td>0.000000e+00</td>\n",
       "      <td>-6605.570000</td>\n",
       "      <td>0.000000</td>\n",
       "      <td>66179.000000</td>\n",
       "    </tr>\n",
       "    <tr>\n",
       "      <th>25%</th>\n",
       "      <td>2019.000000</td>\n",
       "      <td>3.000000</td>\n",
       "      <td>50.000000</td>\n",
       "      <td>2.012862e+12</td>\n",
       "      <td>50.000000</td>\n",
       "      <td>0.000000</td>\n",
       "      <td>141553.000000</td>\n",
       "    </tr>\n",
       "    <tr>\n",
       "      <th>50%</th>\n",
       "      <td>2019.000000</td>\n",
       "      <td>6.000000</td>\n",
       "      <td>187.050000</td>\n",
       "      <td>7.575651e+12</td>\n",
       "      <td>184.640000</td>\n",
       "      <td>0.000000</td>\n",
       "      <td>178931.000000</td>\n",
       "    </tr>\n",
       "    <tr>\n",
       "      <th>75%</th>\n",
       "      <td>2019.000000</td>\n",
       "      <td>9.000000</td>\n",
       "      <td>673.790000</td>\n",
       "      <td>1.789565e+13</td>\n",
       "      <td>667.265000</td>\n",
       "      <td>0.000000</td>\n",
       "      <td>204448.000000</td>\n",
       "    </tr>\n",
       "    <tr>\n",
       "      <th>max</th>\n",
       "      <td>2020.000000</td>\n",
       "      <td>12.000000</td>\n",
       "      <td>172000.000000</td>\n",
       "      <td>9.867066e+13</td>\n",
       "      <td>145140.000000</td>\n",
       "      <td>86000.000000</td>\n",
       "      <td>213274.000000</td>\n",
       "    </tr>\n",
       "  </tbody>\n",
       "</table>\n",
       "</div>"
      ],
      "text/plain": [
       "                 ano            mes  valorDocumento  cnpjCpfFornecedor  \\\n",
       "count  314339.000000  314339.000000   314339.000000       3.143390e+05   \n",
       "mean     2019.142076       6.016078      763.080516       1.360982e+13   \n",
       "std         0.349129       3.320309     2144.052090       1.804330e+13   \n",
       "min      2019.000000       1.000000    -6605.570000       0.000000e+00   \n",
       "25%      2019.000000       3.000000       50.000000       2.012862e+12   \n",
       "50%      2019.000000       6.000000      187.050000       7.575651e+12   \n",
       "75%      2019.000000       9.000000      673.790000       1.789565e+13   \n",
       "max      2020.000000      12.000000   172000.000000       9.867066e+13   \n",
       "\n",
       "        valorLiquido     valorGlosa             id  \n",
       "count  314339.000000  314339.000000  314339.000000  \n",
       "mean      758.060092       3.560971  166044.725946  \n",
       "std      2119.124627     169.079563   45459.128475  \n",
       "min     -6605.570000       0.000000   66179.000000  \n",
       "25%        50.000000       0.000000  141553.000000  \n",
       "50%       184.640000       0.000000  178931.000000  \n",
       "75%       667.265000       0.000000  204448.000000  \n",
       "max    145140.000000   86000.000000  213274.000000  "
      ]
     },
     "execution_count": 71,
     "metadata": {},
     "output_type": "execute_result"
    }
   ],
   "source": [
    "merge.describe()"
   ]
  },
  {
   "cell_type": "code",
   "execution_count": 72,
   "metadata": {},
   "outputs": [
    {
     "data": {
      "text/html": [
       "<div>\n",
       "<style scoped>\n",
       "    .dataframe tbody tr th:only-of-type {\n",
       "        vertical-align: middle;\n",
       "    }\n",
       "\n",
       "    .dataframe tbody tr th {\n",
       "        vertical-align: top;\n",
       "    }\n",
       "\n",
       "    .dataframe thead th {\n",
       "        text-align: right;\n",
       "    }\n",
       "</style>\n",
       "<table border=\"1\" class=\"dataframe\">\n",
       "  <thead>\n",
       "    <tr style=\"text-align: right;\">\n",
       "      <th></th>\n",
       "      <th>ano</th>\n",
       "      <th>mes</th>\n",
       "      <th>tipoDespesa</th>\n",
       "      <th>tipoDocumento</th>\n",
       "      <th>valorDocumento</th>\n",
       "      <th>nomeFornecedor</th>\n",
       "      <th>cnpjCpfFornecedor</th>\n",
       "      <th>valorLiquido</th>\n",
       "      <th>valorGlosa</th>\n",
       "      <th>id</th>\n",
       "      <th>nome</th>\n",
       "      <th>siglaPartido</th>\n",
       "      <th>ufLegislacao</th>\n",
       "      <th>email</th>\n",
       "      <th>escolaridade</th>\n",
       "      <th>dataNascimento</th>\n",
       "      <th>sexo</th>\n",
       "      <th>estadoNascimento</th>\n",
       "      <th>cidadeNascimento</th>\n",
       "    </tr>\n",
       "  </thead>\n",
       "  <tbody>\n",
       "    <tr>\n",
       "      <th>259857</th>\n",
       "      <td>2019</td>\n",
       "      <td>9</td>\n",
       "      <td>EMISSÃO BILHETE AÉREO</td>\n",
       "      <td>Nota Fiscal</td>\n",
       "      <td>-6605.57</td>\n",
       "      <td>CIA AÉREA - GOL</td>\n",
       "      <td>7575651000159</td>\n",
       "      <td>-6605.57</td>\n",
       "      <td>0.0</td>\n",
       "      <td>74554</td>\n",
       "      <td>JOSÉ ROCHA</td>\n",
       "      <td>PL</td>\n",
       "      <td>BA</td>\n",
       "      <td>DEP.JOSEROCHA@CAMARA.LEG.BR</td>\n",
       "      <td>PÓS-GRADUAÇÃO</td>\n",
       "      <td>1948-08-18</td>\n",
       "      <td>M</td>\n",
       "      <td>BA</td>\n",
       "      <td>CORIBE</td>\n",
       "    </tr>\n",
       "  </tbody>\n",
       "</table>\n",
       "</div>"
      ],
      "text/plain": [
       "         ano  mes            tipoDespesa tipoDocumento  valorDocumento  \\\n",
       "259857  2019    9  EMISSÃO BILHETE AÉREO   Nota Fiscal        -6605.57   \n",
       "\n",
       "         nomeFornecedor  cnpjCpfFornecedor  valorLiquido  valorGlosa     id  \\\n",
       "259857  CIA AÉREA - GOL      7575651000159      -6605.57         0.0  74554   \n",
       "\n",
       "              nome siglaPartido ufLegislacao                        email  \\\n",
       "259857  JOSÉ ROCHA           PL           BA  DEP.JOSEROCHA@CAMARA.LEG.BR   \n",
       "\n",
       "         escolaridade dataNascimento sexo estadoNascimento cidadeNascimento  \n",
       "259857  PÓS-GRADUAÇÃO     1948-08-18    M               BA           CORIBE  "
      ]
     },
     "execution_count": 72,
     "metadata": {},
     "output_type": "execute_result"
    }
   ],
   "source": [
    "merge.loc[merge['valorDocumento']==-6605.570000]"
   ]
  }
 ],
 "metadata": {
  "kernelspec": {
   "display_name": "Python 3.8.2 32-bit",
   "language": "python",
   "name": "python38232bit82a94e22911d4463ad027b49208e9a48"
  },
  "language_info": {
   "codemirror_mode": {
    "name": "ipython",
    "version": 3
   },
   "file_extension": ".py",
   "mimetype": "text/x-python",
   "name": "python",
   "nbconvert_exporter": "python",
   "pygments_lexer": "ipython3",
   "version": "3.8.2"
  }
 },
 "nbformat": 4,
 "nbformat_minor": 4
}
