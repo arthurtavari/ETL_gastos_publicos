{
 "cells": [
  {
   "cell_type": "markdown",
   "metadata": {},
   "source": [
    "### EXTRAÇÃO DOS DADOS \n",
    "Processo de conexão e requisição via <i>API</i>, a requisição foi dividia em dois blocos: <hr>"
   ]
  },
  {
   "cell_type": "code",
   "execution_count": 4,
   "metadata": {},
   "outputs": [],
   "source": [
    "import pandas as pd\n",
    "import requests"
   ]
  },
  {
   "cell_type": "markdown",
   "metadata": {},
   "source": [
    "###### 1 - REQUISIÇÃO LISTA DE DEPUTADOS"
   ]
  },
  {
   "cell_type": "code",
   "execution_count": 5,
   "metadata": {},
   "outputs": [
    {
     "name": "stdout",
     "output_type": "stream",
     "text": [
      "<class 'pandas.core.frame.DataFrame'>\n",
      "RangeIndex: 513 entries, 0 to 512\n",
      "Data columns (total 5 columns):\n",
      " #   Column        Non-Null Count  Dtype \n",
      "---  ------        --------------  ----- \n",
      " 0   id            513 non-null    int64 \n",
      " 1   nome          513 non-null    object\n",
      " 2   siglaPartido  513 non-null    object\n",
      " 3   siglaUf       513 non-null    object\n",
      " 4   email         513 non-null    object\n",
      "dtypes: int64(1), object(4)\n",
      "memory usage: 12.1+ KB\n"
     ]
    }
   ],
   "source": [
    "url_requisicao_deputados = \"https://dadosabertos.camara.leg.br/api/v2/deputados\"\n",
    "resultado = requests.get(url_requisicao_deputados)\n",
    "deputados = pd.DataFrame(resultado.json()['dados'])\n",
    "\n",
    "lista_exclusao_deputados = ['uri', 'uriPartido', 'idLegislatura', 'urlFoto']\n",
    "i = 0\n",
    "\n",
    "while i < len(lista_exclusao_deputados):\n",
    "    del deputados[lista_exclusao_deputados[i]] \n",
    "    i += 1\n",
    "\n",
    "\n",
    "deputados.nome = [str(nome).upper() for nome in deputados.nome]\n",
    "deputados.email = [str(email).upper() for email in deputados.email]\n",
    "\n",
    "deputados.info()"
   ]
  },
  {
   "cell_type": "markdown",
   "metadata": {},
   "source": [
    "###### 2 - REQUISIÇÃO LISTA DE GASTOS"
   ]
  },
  {
   "cell_type": "code",
   "execution_count": 6,
   "metadata": {},
   "outputs": [
    {
     "name": "stdout",
     "output_type": "stream",
     "text": [
      "<class 'pandas.core.frame.DataFrame'>\n",
      "Int64Index: 32517 entries, 0 to 99\n",
      "Data columns (total 10 columns):\n",
      " #   Column             Non-Null Count  Dtype  \n",
      "---  ------             --------------  -----  \n",
      " 0   ano                32517 non-null  float64\n",
      " 1   mes                32517 non-null  float64\n",
      " 2   tipoDespesa        32517 non-null  object \n",
      " 3   tipoDocumento      32517 non-null  object \n",
      " 4   valorDocumento     32517 non-null  float64\n",
      " 5   nomeFornecedor     32517 non-null  object \n",
      " 6   cnpjCpfFornecedor  32517 non-null  object \n",
      " 7   valorLiquido       32517 non-null  float64\n",
      " 8   valorGlosa         32517 non-null  float64\n",
      " 9   id                 32517 non-null  int64  \n",
      "dtypes: float64(5), int64(1), object(4)\n",
      "memory usage: 2.2+ MB\n"
     ]
    }
   ],
   "source": [
    "gastos = []\n",
    "for id in deputados.id:\n",
    "    url_despesa = \"https://dadosabertos.camara.leg.br/api/v2/deputados/\"\n",
    "    url_despesa = url_despesa +str(id)+\"/despesas?ordem=ASC&ano=2020&itens=999999\"\n",
    "    resposta = requests.get(url_despesa)\n",
    "    gasto = pd.DataFrame(resposta.json()['dados'])\n",
    "    gasto['id'] = id\n",
    "    gastos.append(gasto)\n",
    "    \n",
    "total_gastos = pd.concat(gastos)\n",
    "lista_exclusao_gastos = ['numRessarcimento','dataDocumento','codDocumento', 'codTipoDocumento','numDocumento', 'urlDocumento','codLote', 'parcela']\n",
    "i = 0\n",
    "\n",
    "while i < len(lista_exclusao_gastos):\n",
    "    del total_gastos[lista_exclusao_gastos[i]] \n",
    "    i += 1\n",
    "    \n",
    "total_gastos.info()"
   ]
  },
  {
   "cell_type": "markdown",
   "metadata": {},
   "source": [
    "### TRATAMENTO DOS DADOS \n",
    "Modelagem dos dados da requisição 'Lista de Gastos'. <hr>"
   ]
  },
  {
   "cell_type": "markdown",
   "metadata": {},
   "source": [
    "<strong>Informações detalhadas sobre a lista de gastos:<strong> <br> "
   ]
  },
  {
   "cell_type": "code",
   "execution_count": 7,
   "metadata": {},
   "outputs": [
    {
     "name": "stdout",
     "output_type": "stream",
     "text": [
      "<class 'pandas.core.frame.DataFrame'>\n",
      "Int64Index: 32517 entries, 0 to 99\n",
      "Data columns (total 10 columns):\n",
      " #   Column             Non-Null Count  Dtype  \n",
      "---  ------             --------------  -----  \n",
      " 0   ano                32517 non-null  float64\n",
      " 1   mes                32517 non-null  float64\n",
      " 2   tipoDespesa        32517 non-null  object \n",
      " 3   tipoDocumento      32517 non-null  object \n",
      " 4   valorDocumento     32517 non-null  float64\n",
      " 5   nomeFornecedor     32517 non-null  object \n",
      " 6   cnpjCpfFornecedor  32517 non-null  object \n",
      " 7   valorLiquido       32517 non-null  float64\n",
      " 8   valorGlosa         32517 non-null  float64\n",
      " 9   id                 32517 non-null  int64  \n",
      "dtypes: float64(5), int64(1), object(4)\n",
      "memory usage: 2.2+ MB\n"
     ]
    }
   ],
   "source": [
    "total_gastos.info()"
   ]
  },
  {
   "cell_type": "markdown",
   "metadata": {},
   "source": [
    "Observações:\n",
    "- Aqui já conseguimos ver se existe diferença entre o count das colunas, sendo possível verificar em quais existem valores nulos. \n",
    "- Neste caso não houve a necessidade de tratamento para o tipo dos dados, pois, todos estão retornando de forma correta: <br> Textos em Object/String e Valores calculáveis em Float."
   ]
  },
  {
   "cell_type": "markdown",
   "metadata": {},
   "source": [
    "<strong>Verificação e correção dos dados nulos ou duplicados: <strong> <br>"
   ]
  },
  {
   "cell_type": "code",
   "execution_count": 8,
   "metadata": {},
   "outputs": [
    {
     "name": "stdout",
     "output_type": "stream",
     "text": [
      "LISTAGEM DE COLUNAS COM VALORES NULOS:\n",
      "ano                  0\n",
      "mes                  0\n",
      "tipoDespesa          0\n",
      "tipoDocumento        0\n",
      "valorDocumento       0\n",
      "nomeFornecedor       0\n",
      "cnpjCpfFornecedor    0\n",
      "valorLiquido         0\n",
      "valorGlosa           0\n",
      "id                   0\n",
      "dtype: int64\n",
      "TOTAL DE DADOS VS COLUNAS:\n",
      "(32517, 10)\n",
      "TOTAL DE DADOS VS COLUNAS SEM DUPLICAÇÕES:\n",
      "(32517, 10)\n"
     ]
    }
   ],
   "source": [
    "print('LISTAGEM DE COLUNAS COM VALORES NULOS:')\n",
    "print(total_gastos.isnull().sum())\n",
    "print('TOTAL DE DADOS VS COLUNAS:')\n",
    "print(total_gastos.shape)\n",
    "print('TOTAL DE DADOS VS COLUNAS SEM DUPLICAÇÕES:')\n",
    "total_gastos.drop_duplicates()\n",
    "print(total_gastos.shape)"
   ]
  },
  {
   "cell_type": "markdown",
   "metadata": {},
   "source": [
    "Observações:\n",
    "- Neste caso não houve necessidade de ajustes pois não há nenhum dado nulo ou duplicado. <br> \n",
    "É possível identificar através da contagem de valores nulos = 0 e também na diferença na contagem dos dados vs colunas com ou sem duplicações."
   ]
  },
  {
   "cell_type": "markdown",
   "metadata": {},
   "source": [
    "<strong>Analisando a coluna Fornecedores:<strong> <br> "
   ]
  },
  {
   "cell_type": "code",
   "execution_count": 9,
   "metadata": {
    "slideshow": {
     "slide_type": "-"
    }
   },
   "outputs": [
    {
     "name": "stdout",
     "output_type": "stream",
     "text": [
      "DADOS FORNECEDORES SEM ALTERAÇÃO:\n",
      "RAMAL                                               1452\n",
      "CASCOL COMBUSTIVEIS PARA VEICULOS LTDA               883\n",
      "CORREIOS - SEDEX CONVENCIONAL                        820\n",
      "Cia Aérea - TAM                                      764\n",
      "CELULAR FUNCIONAL                                    605\n",
      "Telefônica Brasil S.A. VIVO                          573\n",
      "UBER DO BRASIL TECNOLOGIA LTDA.                      488\n",
      "CORREIOS - CARTA COMERCIAL                           342\n",
      "CORREIOS - ENCOMENDA PAC                             321\n",
      "Claro S.A                                            306\n",
      "SERVICO NACIONAL DE APRENDIZAGEM COMERCIAL SENAC     260\n",
      "FRATELLI POSTO DE COMBUSTIVEIS LTDA                  231\n",
      "WMS COMERCIO DE ARTIGOS DE PAPELARIA LTDA-ME         178\n",
      "SINPETAXI                                            173\n",
      "CORREIOS - SEDEX 10                                  154\n",
      "Name: nomeFornecedor, dtype: int64\n",
      "----------------------------------------------\n",
      "DADOS FORNECEDORES AJUSTADOS:\n",
      "RAMAL                                               1452\n",
      "CASCOL COMBUSTIVEIS PARA VEICULOS LTDA               883\n",
      "CORREIOS - SEDEX CONVENCIONAL                        820\n",
      "CIA AÉREA - TAM                                      764\n",
      "TELEFÔNICA BRASIL S.A VIVO                           615\n",
      "CELULAR FUNCIONAL                                    605\n",
      "UBER DO BRASIL TECNOLOGIA LTDA.                      488\n",
      "CLARO S.A                                            480\n",
      "CORREIOS - CARTA COMERCIAL                           342\n",
      "CORREIOS - ENCOMENDA PAC                             321\n",
      "SERVICO NACIONAL DE APRENDIZAGEM COMERCIAL SENAC     260\n",
      "FRATELLI POSTO DE COMBUSTIVEIS LTDA                  231\n",
      "WMS COMERCIO DE ARTIGOS DE PAPELARIA LTDA            178\n",
      "SINPETAXI                                            173\n",
      "CORREIOS - SEDEX 10                                  154\n",
      "Name: nomeFornecedor, dtype: int64\n"
     ]
    }
   ],
   "source": [
    "print('DADOS FORNECEDORES SEM ALTERAÇÃO:')\n",
    "print(total_gastos.nomeFornecedor.value_counts().head(15))\n",
    "print('----------------------------------------------')\n",
    "print('DADOS FORNECEDORES AJUSTADOS:')\n",
    "total_gastos.nomeFornecedor = [str(fornecedor).upper().replace(\"S.A.\", \"S.A\").replace(\"S/A\",\"S.A\").replace(\"LTDA-ME\",\"LTDA\") for fornecedor in total_gastos.nomeFornecedor]\n",
    "print(total_gastos.nomeFornecedor.value_counts().head(15))"
   ]
  },
  {
   "cell_type": "markdown",
   "metadata": {},
   "source": [
    "Observações:\n",
    "- Identifiquei que o dado não está padronizado, há alguns com escrita em caixa alta e outros não. Também contém variações de escrita para o mesmo fornecedor."
   ]
  },
  {
   "cell_type": "markdown",
   "metadata": {},
   "source": [
    "<strong>Analisando a coluna Tipos de Despesas:<strong> <br> "
   ]
  },
  {
   "cell_type": "code",
   "execution_count": 10,
   "metadata": {},
   "outputs": [
    {
     "name": "stdout",
     "output_type": "stream",
     "text": [
      "DADOS FORNECEDORES SEM ALTERAÇÃO:\n",
      "COMBUSTÍVEIS E LUBRIFICANTES.                                11570\n",
      "MANUTENÇÃO DE ESCRITÓRIO DE APOIO À ATIVIDADE PARLAMENTAR     5189\n",
      "TELEFONIA                                                     3836\n",
      "DIVULGAÇÃO DA ATIVIDADE PARLAMENTAR.                          2543\n",
      "SERVIÇOS POSTAIS                                              2525\n",
      "SERVIÇO DE TÁXI, PEDÁGIO E ESTACIONAMENTO                     1729\n",
      "FORNECIMENTO DE ALIMENTAÇÃO DO PARLAMENTAR                    1293\n",
      "LOCAÇÃO OU FRETAMENTO DE VEÍCULOS AUTOMOTORES                 1078\n",
      "Emissão Bilhete Aéreo                                         1001\n",
      "HOSPEDAGEM ,EXCETO DO PARLAMENTAR NO DISTRITO FEDERAL.         611\n",
      "CONSULTORIAS, PESQUISAS E TRABALHOS TÉCNICOS.                  476\n",
      "PASSAGENS AÉREAS                                               311\n",
      "SERVIÇO DE SEGURANÇA PRESTADO POR EMPRESA ESPECIALIZADA.       133\n",
      "ASSINATURA DE PUBLICAÇÕES                                      119\n",
      "PASSAGENS TERRESTRES, MARÍTIMAS OU FLUVIAIS                     59\n",
      "LOCAÇÃO OU FRETAMENTO DE AERONAVES                              26\n",
      "LOCAÇÃO OU FRETAMENTO DE EMBARCAÇÕES                            16\n",
      "PARTICIPAÇÃO EM CURSO, PALESTRA OU EVENTO SIMILAR                2\n",
      "Name: tipoDespesa, dtype: int64\n",
      "----------------------------------------------\n",
      "DADOS FORNECEDORES AJUSTADOS:\n",
      "COMBUSTÍVEIS E LUBRIFICANTES.                                11570\n",
      "MANUTENÇÃO DE ESCRITÓRIO DE APOIO À ATIVIDADE PARLAMENTAR     5189\n",
      "TELEFONIA                                                     3836\n",
      "DIVULGAÇÃO DA ATIVIDADE PARLAMENTAR.                          2543\n",
      "SERVIÇOS POSTAIS                                              2525\n",
      "SERVIÇO DE TÁXI, PEDÁGIO E ESTACIONAMENTO                     1729\n",
      "FORNECIMENTO DE ALIMENTAÇÃO DO PARLAMENTAR                    1293\n",
      "LOCAÇÃO OU FRETAMENTO DE VEÍCULOS AUTOMOTORES                 1078\n",
      "EMISSÃO BILHETE AÉREO                                         1001\n",
      "HOSPEDAGEM ,EXCETO DO PARLAMENTAR NO DISTRITO FEDERAL.         611\n",
      "CONSULTORIAS, PESQUISAS E TRABALHOS TÉCNICOS.                  476\n",
      "PASSAGENS AÉREAS                                               311\n",
      "SERVIÇO DE SEGURANÇA PRESTADO POR EMPRESA ESPECIALIZADA.       133\n",
      "ASSINATURA DE PUBLICAÇÕES                                      119\n",
      "PASSAGENS TERRESTRES, MARÍTIMAS OU FLUVIAIS                     59\n",
      "LOCAÇÃO OU FRETAMENTO DE AERONAVES                              26\n",
      "LOCAÇÃO OU FRETAMENTO DE EMBARCAÇÕES                            16\n",
      "PARTICIPAÇÃO EM CURSO, PALESTRA OU EVENTO SIMILAR                2\n",
      "Name: tipoDespesa, dtype: int64\n"
     ]
    }
   ],
   "source": [
    "print('DADOS FORNECEDORES SEM ALTERAÇÃO:')\n",
    "print(total_gastos.tipoDespesa.value_counts().head(20))\n",
    "print('----------------------------------------------')\n",
    "print('DADOS FORNECEDORES AJUSTADOS:')\n",
    "total_gastos.tipoDespesa = [str(despesas).upper() for despesas in total_gastos.tipoDespesa]\n",
    "print(total_gastos.tipoDespesa.value_counts().head(20))"
   ]
  },
  {
   "cell_type": "markdown",
   "metadata": {},
   "source": [
    "Observações:\n",
    "- Identifiquei que nessa coluna o dado também não está padronizado contém alguns com escrita em caixa alta e outros não. "
   ]
  },
  {
   "cell_type": "markdown",
   "metadata": {},
   "source": [
    "<strong>Analisando a colunas ano e mês:<strong> <br> "
   ]
  },
  {
   "cell_type": "code",
   "execution_count": 11,
   "metadata": {},
   "outputs": [],
   "source": [
    "total_gastos.ano = [str(ano_list).replace(\"2020.0\", \"2020\") for ano_list in total_gastos.ano]\n",
    "total_gastos.mes = [str(mes_list).replace(\"1.0\", \"1\").replace(\"2.0\", \"2\").replace(\"3.0\", \"3\").replace(\"4.0\", \"4\") for mes_list in total_gastos.mes]"
   ]
  },
  {
   "cell_type": "markdown",
   "metadata": {},
   "source": [
    "Observações:\n",
    "- Nessa variável fiz um ajuste para 'string' e retirei as casas decimais. "
   ]
  },
  {
   "cell_type": "markdown",
   "metadata": {},
   "source": [
    "Para os demais dados da requisição despesas não houve necessidade de ajustes:\n",
    "- valorDocumento\n",
    "- cnpjCpfFornecedor\n",
    "- valorLiquido\n",
    "- valorGlosa\n",
    "- id"
   ]
  },
  {
   "cell_type": "markdown",
   "metadata": {},
   "source": [
    "<strong>Renomeando o nome das colunas:<strong> <br> "
   ]
  },
  {
   "cell_type": "code",
   "execution_count": 12,
   "metadata": {},
   "outputs": [
    {
     "data": {
      "text/html": [
       "<div>\n",
       "<style scoped>\n",
       "    .dataframe tbody tr th:only-of-type {\n",
       "        vertical-align: middle;\n",
       "    }\n",
       "\n",
       "    .dataframe tbody tr th {\n",
       "        vertical-align: top;\n",
       "    }\n",
       "\n",
       "    .dataframe thead th {\n",
       "        text-align: right;\n",
       "    }\n",
       "</style>\n",
       "<table border=\"1\" class=\"dataframe\">\n",
       "  <thead>\n",
       "    <tr style=\"text-align: right;\">\n",
       "      <th></th>\n",
       "      <th>ID</th>\n",
       "      <th>NOME</th>\n",
       "      <th>PARTIDO</th>\n",
       "      <th>UF</th>\n",
       "      <th>E-MAIL</th>\n",
       "    </tr>\n",
       "  </thead>\n",
       "  <tbody>\n",
       "    <tr>\n",
       "      <th>0</th>\n",
       "      <td>204554</td>\n",
       "      <td>ABÍLIO SANTANA</td>\n",
       "      <td>PL</td>\n",
       "      <td>BA</td>\n",
       "      <td>DEP.ABILIOSANTANA@CAMARA.LEG.BR</td>\n",
       "    </tr>\n",
       "    <tr>\n",
       "      <th>1</th>\n",
       "      <td>204521</td>\n",
       "      <td>ABOU ANNI</td>\n",
       "      <td>PSL</td>\n",
       "      <td>SP</td>\n",
       "      <td>DEP.ABOUANNI@CAMARA.LEG.BR</td>\n",
       "    </tr>\n",
       "    <tr>\n",
       "      <th>2</th>\n",
       "      <td>204379</td>\n",
       "      <td>ACÁCIO FAVACHO</td>\n",
       "      <td>PROS</td>\n",
       "      <td>AP</td>\n",
       "      <td>DEP.ACACIOFAVACHO@CAMARA.LEG.BR</td>\n",
       "    </tr>\n",
       "    <tr>\n",
       "      <th>3</th>\n",
       "      <td>204560</td>\n",
       "      <td>ADOLFO VIANA</td>\n",
       "      <td>PSDB</td>\n",
       "      <td>BA</td>\n",
       "      <td>DEP.ADOLFOVIANA@CAMARA.LEG.BR</td>\n",
       "    </tr>\n",
       "    <tr>\n",
       "      <th>4</th>\n",
       "      <td>204528</td>\n",
       "      <td>ADRIANA VENTURA</td>\n",
       "      <td>NOVO</td>\n",
       "      <td>SP</td>\n",
       "      <td>DEP.ADRIANAVENTURA@CAMARA.LEG.BR</td>\n",
       "    </tr>\n",
       "  </tbody>\n",
       "</table>\n",
       "</div>"
      ],
      "text/plain": [
       "       ID             NOME PARTIDO  UF                            E-MAIL\n",
       "0  204554   ABÍLIO SANTANA      PL  BA   DEP.ABILIOSANTANA@CAMARA.LEG.BR\n",
       "1  204521        ABOU ANNI     PSL  SP        DEP.ABOUANNI@CAMARA.LEG.BR\n",
       "2  204379   ACÁCIO FAVACHO    PROS  AP   DEP.ACACIOFAVACHO@CAMARA.LEG.BR\n",
       "3  204560     ADOLFO VIANA    PSDB  BA     DEP.ADOLFOVIANA@CAMARA.LEG.BR\n",
       "4  204528  ADRIANA VENTURA    NOVO  SP  DEP.ADRIANAVENTURA@CAMARA.LEG.BR"
      ]
     },
     "execution_count": 12,
     "metadata": {},
     "output_type": "execute_result"
    }
   ],
   "source": [
    "deputados.columns = ['ID', 'NOME', 'PARTIDO','UF','E-MAIL']\n",
    "deputados.head()"
   ]
  },
  {
   "cell_type": "code",
   "execution_count": 13,
   "metadata": {},
   "outputs": [
    {
     "data": {
      "text/html": [
       "<div>\n",
       "<style scoped>\n",
       "    .dataframe tbody tr th:only-of-type {\n",
       "        vertical-align: middle;\n",
       "    }\n",
       "\n",
       "    .dataframe tbody tr th {\n",
       "        vertical-align: top;\n",
       "    }\n",
       "\n",
       "    .dataframe thead th {\n",
       "        text-align: right;\n",
       "    }\n",
       "</style>\n",
       "<table border=\"1\" class=\"dataframe\">\n",
       "  <thead>\n",
       "    <tr style=\"text-align: right;\">\n",
       "      <th></th>\n",
       "      <th>ANO</th>\n",
       "      <th>MÊS</th>\n",
       "      <th>TIPO-DESPESA</th>\n",
       "      <th>TIPO-DOCUMENTO</th>\n",
       "      <th>VALOR-DOCUMENTO</th>\n",
       "      <th>NOME-FORNECEDOR</th>\n",
       "      <th>CNPJ-FORNECEDOR</th>\n",
       "      <th>VALOR-LÍQUIDO</th>\n",
       "      <th>VALOR-GLOSA</th>\n",
       "      <th>ID</th>\n",
       "    </tr>\n",
       "  </thead>\n",
       "  <tbody>\n",
       "    <tr>\n",
       "      <th>0</th>\n",
       "      <td>2020</td>\n",
       "      <td>1</td>\n",
       "      <td>MANUTENÇÃO DE ESCRITÓRIO DE APOIO À ATIVIDADE ...</td>\n",
       "      <td>Nota Fiscal</td>\n",
       "      <td>132.76</td>\n",
       "      <td>COMPANHIA DE ELETRICIDADE DO ESTADO DA BAHIA</td>\n",
       "      <td>15139629000194</td>\n",
       "      <td>118.35</td>\n",
       "      <td>14.41</td>\n",
       "      <td>204554</td>\n",
       "    </tr>\n",
       "    <tr>\n",
       "      <th>1</th>\n",
       "      <td>2020</td>\n",
       "      <td>2</td>\n",
       "      <td>MANUTENÇÃO DE ESCRITÓRIO DE APOIO À ATIVIDADE ...</td>\n",
       "      <td>Nota Fiscal</td>\n",
       "      <td>162.27</td>\n",
       "      <td>COMPANHIA DE ELETRICIDADE DO ESTADO DA BAHIA</td>\n",
       "      <td>15139629000194</td>\n",
       "      <td>159.97</td>\n",
       "      <td>2.30</td>\n",
       "      <td>204554</td>\n",
       "    </tr>\n",
       "    <tr>\n",
       "      <th>2</th>\n",
       "      <td>2020</td>\n",
       "      <td>1</td>\n",
       "      <td>MANUTENÇÃO DE ESCRITÓRIO DE APOIO À ATIVIDADE ...</td>\n",
       "      <td>Recibos/Outros</td>\n",
       "      <td>1500.00</td>\n",
       "      <td>MATHEUS QUADROS LOIOLA MARTINS</td>\n",
       "      <td>06540941528</td>\n",
       "      <td>1500.00</td>\n",
       "      <td>0.00</td>\n",
       "      <td>204554</td>\n",
       "    </tr>\n",
       "    <tr>\n",
       "      <th>3</th>\n",
       "      <td>2020</td>\n",
       "      <td>2</td>\n",
       "      <td>MANUTENÇÃO DE ESCRITÓRIO DE APOIO À ATIVIDADE ...</td>\n",
       "      <td>Recibos/Outros</td>\n",
       "      <td>1600.00</td>\n",
       "      <td>MATHEUS QUADROS LOIOLA MARTINS</td>\n",
       "      <td>06540941528</td>\n",
       "      <td>1600.00</td>\n",
       "      <td>0.00</td>\n",
       "      <td>204554</td>\n",
       "    </tr>\n",
       "    <tr>\n",
       "      <th>4</th>\n",
       "      <td>2020</td>\n",
       "      <td>3</td>\n",
       "      <td>MANUTENÇÃO DE ESCRITÓRIO DE APOIO À ATIVIDADE ...</td>\n",
       "      <td>Recibos/Outros</td>\n",
       "      <td>1600.00</td>\n",
       "      <td>MATHEUS QUADROS LOIOLA MARTINS</td>\n",
       "      <td>06540941528</td>\n",
       "      <td>1600.00</td>\n",
       "      <td>0.00</td>\n",
       "      <td>204554</td>\n",
       "    </tr>\n",
       "  </tbody>\n",
       "</table>\n",
       "</div>"
      ],
      "text/plain": [
       "    ANO MÊS                                       TIPO-DESPESA  \\\n",
       "0  2020   1  MANUTENÇÃO DE ESCRITÓRIO DE APOIO À ATIVIDADE ...   \n",
       "1  2020   2  MANUTENÇÃO DE ESCRITÓRIO DE APOIO À ATIVIDADE ...   \n",
       "2  2020   1  MANUTENÇÃO DE ESCRITÓRIO DE APOIO À ATIVIDADE ...   \n",
       "3  2020   2  MANUTENÇÃO DE ESCRITÓRIO DE APOIO À ATIVIDADE ...   \n",
       "4  2020   3  MANUTENÇÃO DE ESCRITÓRIO DE APOIO À ATIVIDADE ...   \n",
       "\n",
       "   TIPO-DOCUMENTO  VALOR-DOCUMENTO  \\\n",
       "0     Nota Fiscal           132.76   \n",
       "1     Nota Fiscal           162.27   \n",
       "2  Recibos/Outros          1500.00   \n",
       "3  Recibos/Outros          1600.00   \n",
       "4  Recibos/Outros          1600.00   \n",
       "\n",
       "                                NOME-FORNECEDOR CNPJ-FORNECEDOR  \\\n",
       "0  COMPANHIA DE ELETRICIDADE DO ESTADO DA BAHIA  15139629000194   \n",
       "1  COMPANHIA DE ELETRICIDADE DO ESTADO DA BAHIA  15139629000194   \n",
       "2                MATHEUS QUADROS LOIOLA MARTINS     06540941528   \n",
       "3                MATHEUS QUADROS LOIOLA MARTINS     06540941528   \n",
       "4                MATHEUS QUADROS LOIOLA MARTINS     06540941528   \n",
       "\n",
       "   VALOR-LÍQUIDO  VALOR-GLOSA      ID  \n",
       "0         118.35        14.41  204554  \n",
       "1         159.97         2.30  204554  \n",
       "2        1500.00         0.00  204554  \n",
       "3        1600.00         0.00  204554  \n",
       "4        1600.00         0.00  204554  "
      ]
     },
     "execution_count": 13,
     "metadata": {},
     "output_type": "execute_result"
    }
   ],
   "source": [
    "total_gastos.columns = ['ANO', 'MÊS', 'TIPO-DESPESA','TIPO-DOCUMENTO','VALOR-DOCUMENTO','NOME-FORNECEDOR','CNPJ-FORNECEDOR','VALOR-LÍQUIDO','VALOR-GLOSA','ID']\n",
    "total_gastos.head()"
   ]
  },
  {
   "cell_type": "markdown",
   "metadata": {},
   "source": [
    "### CRIANDO UMA BASE COM OS DADOS AJUSTADOS\n",
    "Criação de um banco de dados SQLite que salva todos os dados já tratados para análises sem a necessidade de requisições na API.\n",
    "<hr>"
   ]
  },
  {
   "cell_type": "code",
   "execution_count": 15,
   "metadata": {},
   "outputs": [],
   "source": [
    "from sqlalchemy import create_engine\n",
    "engine = create_engine('sqlite:///dados_abertos.db')\n",
    "deputados.to_sql('deputados', engine)\n",
    "total_gastos.to_sql('gastos', engine)"
   ]
  },
  {
   "cell_type": "code",
   "execution_count": 16,
   "metadata": {},
   "outputs": [
    {
     "data": {
      "text/html": [
       "<div>\n",
       "<style scoped>\n",
       "    .dataframe tbody tr th:only-of-type {\n",
       "        vertical-align: middle;\n",
       "    }\n",
       "\n",
       "    .dataframe tbody tr th {\n",
       "        vertical-align: top;\n",
       "    }\n",
       "\n",
       "    .dataframe thead th {\n",
       "        text-align: right;\n",
       "    }\n",
       "</style>\n",
       "<table border=\"1\" class=\"dataframe\">\n",
       "  <thead>\n",
       "    <tr style=\"text-align: right;\">\n",
       "      <th></th>\n",
       "      <th>index</th>\n",
       "      <th>ID</th>\n",
       "      <th>NOME</th>\n",
       "      <th>PARTIDO</th>\n",
       "      <th>UF</th>\n",
       "      <th>E-MAIL</th>\n",
       "    </tr>\n",
       "  </thead>\n",
       "  <tbody>\n",
       "    <tr>\n",
       "      <th>0</th>\n",
       "      <td>0</td>\n",
       "      <td>204554</td>\n",
       "      <td>ABÍLIO SANTANA</td>\n",
       "      <td>PL</td>\n",
       "      <td>BA</td>\n",
       "      <td>DEP.ABILIOSANTANA@CAMARA.LEG.BR</td>\n",
       "    </tr>\n",
       "    <tr>\n",
       "      <th>1</th>\n",
       "      <td>1</td>\n",
       "      <td>204521</td>\n",
       "      <td>ABOU ANNI</td>\n",
       "      <td>PSL</td>\n",
       "      <td>SP</td>\n",
       "      <td>DEP.ABOUANNI@CAMARA.LEG.BR</td>\n",
       "    </tr>\n",
       "    <tr>\n",
       "      <th>2</th>\n",
       "      <td>2</td>\n",
       "      <td>204379</td>\n",
       "      <td>ACÁCIO FAVACHO</td>\n",
       "      <td>PROS</td>\n",
       "      <td>AP</td>\n",
       "      <td>DEP.ACACIOFAVACHO@CAMARA.LEG.BR</td>\n",
       "    </tr>\n",
       "    <tr>\n",
       "      <th>3</th>\n",
       "      <td>3</td>\n",
       "      <td>204560</td>\n",
       "      <td>ADOLFO VIANA</td>\n",
       "      <td>PSDB</td>\n",
       "      <td>BA</td>\n",
       "      <td>DEP.ADOLFOVIANA@CAMARA.LEG.BR</td>\n",
       "    </tr>\n",
       "    <tr>\n",
       "      <th>4</th>\n",
       "      <td>4</td>\n",
       "      <td>204528</td>\n",
       "      <td>ADRIANA VENTURA</td>\n",
       "      <td>NOVO</td>\n",
       "      <td>SP</td>\n",
       "      <td>DEP.ADRIANAVENTURA@CAMARA.LEG.BR</td>\n",
       "    </tr>\n",
       "  </tbody>\n",
       "</table>\n",
       "</div>"
      ],
      "text/plain": [
       "   index      ID             NOME PARTIDO  UF  \\\n",
       "0      0  204554   ABÍLIO SANTANA      PL  BA   \n",
       "1      1  204521        ABOU ANNI     PSL  SP   \n",
       "2      2  204379   ACÁCIO FAVACHO    PROS  AP   \n",
       "3      3  204560     ADOLFO VIANA    PSDB  BA   \n",
       "4      4  204528  ADRIANA VENTURA    NOVO  SP   \n",
       "\n",
       "                             E-MAIL  \n",
       "0   DEP.ABILIOSANTANA@CAMARA.LEG.BR  \n",
       "1        DEP.ABOUANNI@CAMARA.LEG.BR  \n",
       "2   DEP.ACACIOFAVACHO@CAMARA.LEG.BR  \n",
       "3     DEP.ADOLFOVIANA@CAMARA.LEG.BR  \n",
       "4  DEP.ADRIANAVENTURA@CAMARA.LEG.BR  "
      ]
     },
     "execution_count": 16,
     "metadata": {},
     "output_type": "execute_result"
    }
   ],
   "source": [
    "deputados = pd.read_sql(\"select * from deputados;\", engine)\n",
    "deputados.head()"
   ]
  },
  {
   "cell_type": "code",
   "execution_count": 18,
   "metadata": {},
   "outputs": [
    {
     "data": {
      "text/html": [
       "<div>\n",
       "<style scoped>\n",
       "    .dataframe tbody tr th:only-of-type {\n",
       "        vertical-align: middle;\n",
       "    }\n",
       "\n",
       "    .dataframe tbody tr th {\n",
       "        vertical-align: top;\n",
       "    }\n",
       "\n",
       "    .dataframe thead th {\n",
       "        text-align: right;\n",
       "    }\n",
       "</style>\n",
       "<table border=\"1\" class=\"dataframe\">\n",
       "  <thead>\n",
       "    <tr style=\"text-align: right;\">\n",
       "      <th></th>\n",
       "      <th>index</th>\n",
       "      <th>ANO</th>\n",
       "      <th>MÊS</th>\n",
       "      <th>TIPO-DESPESA</th>\n",
       "      <th>TIPO-DOCUMENTO</th>\n",
       "      <th>VALOR-DOCUMENTO</th>\n",
       "      <th>NOME-FORNECEDOR</th>\n",
       "      <th>CNPJ-FORNECEDOR</th>\n",
       "      <th>VALOR-LÍQUIDO</th>\n",
       "      <th>VALOR-GLOSA</th>\n",
       "      <th>ID</th>\n",
       "    </tr>\n",
       "  </thead>\n",
       "  <tbody>\n",
       "    <tr>\n",
       "      <th>0</th>\n",
       "      <td>0</td>\n",
       "      <td>2020</td>\n",
       "      <td>1</td>\n",
       "      <td>MANUTENÇÃO DE ESCRITÓRIO DE APOIO À ATIVIDADE ...</td>\n",
       "      <td>Nota Fiscal</td>\n",
       "      <td>132.76</td>\n",
       "      <td>COMPANHIA DE ELETRICIDADE DO ESTADO DA BAHIA</td>\n",
       "      <td>15139629000194</td>\n",
       "      <td>118.35</td>\n",
       "      <td>14.41</td>\n",
       "      <td>204554</td>\n",
       "    </tr>\n",
       "    <tr>\n",
       "      <th>1</th>\n",
       "      <td>1</td>\n",
       "      <td>2020</td>\n",
       "      <td>2</td>\n",
       "      <td>MANUTENÇÃO DE ESCRITÓRIO DE APOIO À ATIVIDADE ...</td>\n",
       "      <td>Nota Fiscal</td>\n",
       "      <td>162.27</td>\n",
       "      <td>COMPANHIA DE ELETRICIDADE DO ESTADO DA BAHIA</td>\n",
       "      <td>15139629000194</td>\n",
       "      <td>159.97</td>\n",
       "      <td>2.30</td>\n",
       "      <td>204554</td>\n",
       "    </tr>\n",
       "    <tr>\n",
       "      <th>2</th>\n",
       "      <td>2</td>\n",
       "      <td>2020</td>\n",
       "      <td>1</td>\n",
       "      <td>MANUTENÇÃO DE ESCRITÓRIO DE APOIO À ATIVIDADE ...</td>\n",
       "      <td>Recibos/Outros</td>\n",
       "      <td>1500.00</td>\n",
       "      <td>MATHEUS QUADROS LOIOLA MARTINS</td>\n",
       "      <td>06540941528</td>\n",
       "      <td>1500.00</td>\n",
       "      <td>0.00</td>\n",
       "      <td>204554</td>\n",
       "    </tr>\n",
       "    <tr>\n",
       "      <th>3</th>\n",
       "      <td>3</td>\n",
       "      <td>2020</td>\n",
       "      <td>2</td>\n",
       "      <td>MANUTENÇÃO DE ESCRITÓRIO DE APOIO À ATIVIDADE ...</td>\n",
       "      <td>Recibos/Outros</td>\n",
       "      <td>1600.00</td>\n",
       "      <td>MATHEUS QUADROS LOIOLA MARTINS</td>\n",
       "      <td>06540941528</td>\n",
       "      <td>1600.00</td>\n",
       "      <td>0.00</td>\n",
       "      <td>204554</td>\n",
       "    </tr>\n",
       "    <tr>\n",
       "      <th>4</th>\n",
       "      <td>4</td>\n",
       "      <td>2020</td>\n",
       "      <td>3</td>\n",
       "      <td>MANUTENÇÃO DE ESCRITÓRIO DE APOIO À ATIVIDADE ...</td>\n",
       "      <td>Recibos/Outros</td>\n",
       "      <td>1600.00</td>\n",
       "      <td>MATHEUS QUADROS LOIOLA MARTINS</td>\n",
       "      <td>06540941528</td>\n",
       "      <td>1600.00</td>\n",
       "      <td>0.00</td>\n",
       "      <td>204554</td>\n",
       "    </tr>\n",
       "  </tbody>\n",
       "</table>\n",
       "</div>"
      ],
      "text/plain": [
       "   index   ANO MÊS                                       TIPO-DESPESA  \\\n",
       "0      0  2020   1  MANUTENÇÃO DE ESCRITÓRIO DE APOIO À ATIVIDADE ...   \n",
       "1      1  2020   2  MANUTENÇÃO DE ESCRITÓRIO DE APOIO À ATIVIDADE ...   \n",
       "2      2  2020   1  MANUTENÇÃO DE ESCRITÓRIO DE APOIO À ATIVIDADE ...   \n",
       "3      3  2020   2  MANUTENÇÃO DE ESCRITÓRIO DE APOIO À ATIVIDADE ...   \n",
       "4      4  2020   3  MANUTENÇÃO DE ESCRITÓRIO DE APOIO À ATIVIDADE ...   \n",
       "\n",
       "   TIPO-DOCUMENTO  VALOR-DOCUMENTO  \\\n",
       "0     Nota Fiscal           132.76   \n",
       "1     Nota Fiscal           162.27   \n",
       "2  Recibos/Outros          1500.00   \n",
       "3  Recibos/Outros          1600.00   \n",
       "4  Recibos/Outros          1600.00   \n",
       "\n",
       "                                NOME-FORNECEDOR CNPJ-FORNECEDOR  \\\n",
       "0  COMPANHIA DE ELETRICIDADE DO ESTADO DA BAHIA  15139629000194   \n",
       "1  COMPANHIA DE ELETRICIDADE DO ESTADO DA BAHIA  15139629000194   \n",
       "2                MATHEUS QUADROS LOIOLA MARTINS     06540941528   \n",
       "3                MATHEUS QUADROS LOIOLA MARTINS     06540941528   \n",
       "4                MATHEUS QUADROS LOIOLA MARTINS     06540941528   \n",
       "\n",
       "   VALOR-LÍQUIDO  VALOR-GLOSA      ID  \n",
       "0         118.35        14.41  204554  \n",
       "1         159.97         2.30  204554  \n",
       "2        1500.00         0.00  204554  \n",
       "3        1600.00         0.00  204554  \n",
       "4        1600.00         0.00  204554  "
      ]
     },
     "execution_count": 18,
     "metadata": {},
     "output_type": "execute_result"
    }
   ],
   "source": [
    "total_gastos = pd.read_sql(\"select * from gastos;\", engine)\n",
    "total_gastos.head()"
   ]
  }
 ],
 "metadata": {
  "kernelspec": {
   "display_name": "Python 3",
   "language": "python",
   "name": "python3"
  },
  "language_info": {
   "codemirror_mode": {
    "name": "ipython",
    "version": 3
   },
   "file_extension": ".py",
   "mimetype": "text/x-python",
   "name": "python",
   "nbconvert_exporter": "python",
   "pygments_lexer": "ipython3",
   "version": "3.8.2"
  }
 },
 "nbformat": 4,
 "nbformat_minor": 2
}
